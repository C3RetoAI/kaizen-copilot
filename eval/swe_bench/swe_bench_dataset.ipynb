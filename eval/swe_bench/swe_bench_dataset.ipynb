{
 "cells": [
  {
   "cell_type": "code",
   "execution_count": 3,
   "metadata": {},
   "outputs": [
    {
     "name": "stderr",
     "output_type": "stream",
     "text": [
      "/Users/ikerochoa/opt/anaconda3/envs/kaizen-copilot/lib/python3.9/site-packages/tqdm/auto.py:21: TqdmWarning: IProgress not found. Please update jupyter and ipywidgets. See https://ipywidgets.readthedocs.io/en/stable/user_install.html\n",
      "  from .autonotebook import tqdm as notebook_tqdm\n"
     ]
    }
   ],
   "source": [
    "from datasets import load_dataset\n",
    "\n",
    "# Load main dataset\n",
    "sbf = load_dataset('princeton-nlp/SWE-bench')\n",
    "\n",
    "# Load lite variant\n",
    "sbl = load_dataset('princeton-nlp/SWE-bench_Lite')\n",
    "\n",
    "# Load verified variant\n",
    "sbv = load_dataset('princeton-nlp/SWE-bench_Verified', split='test')\n"
   ]
  },
  {
   "cell_type": "code",
   "execution_count": 1,
   "metadata": {},
   "outputs": [],
   "source": [
    "import json\n",
    "\n",
    "def save_jsonl(dataset_split, output_path):\n",
    "    with open(output_path, 'w', encoding='utf-8') as f:\n",
    "        for example in dataset_split:\n",
    "            json.dump(example, f)\n",
    "            f.write('\\n')\n"
   ]
  },
  {
   "cell_type": "code",
   "execution_count": null,
   "metadata": {},
   "outputs": [
    {
     "ename": "NameError",
     "evalue": "name 'sbf' is not defined",
     "output_type": "error",
     "traceback": [
      "\u001b[0;31m---------------------------------------------------------------------------\u001b[0m",
      "\u001b[0;31mNameError\u001b[0m                                 Traceback (most recent call last)",
      "Cell \u001b[0;32mIn[2], line 2\u001b[0m\n\u001b[1;32m      1\u001b[0m \u001b[38;5;66;03m# sbf['train'].to_json(\"swe_bench_train.json\", orient=\"records\", lines=True)\u001b[39;00m\n\u001b[0;32m----> 2\u001b[0m \u001b[43msbf\u001b[49m[\u001b[38;5;124m'\u001b[39m\u001b[38;5;124mtest\u001b[39m\u001b[38;5;124m'\u001b[39m]\u001b[38;5;241m.\u001b[39mto_json(\u001b[38;5;124m\"\u001b[39m\u001b[38;5;124mswe_bench_test.json\u001b[39m\u001b[38;5;124m\"\u001b[39m, orient\u001b[38;5;241m=\u001b[39m\u001b[38;5;124m\"\u001b[39m\u001b[38;5;124mrecords\u001b[39m\u001b[38;5;124m\"\u001b[39m, lines\u001b[38;5;241m=\u001b[39m\u001b[38;5;28;01mTrue\u001b[39;00m)\n\u001b[1;32m      4\u001b[0m \u001b[38;5;66;03m# sbl['train'].to_json(\"swe_bench_lite_train.json\", orient=\"records\", lines=True)\u001b[39;00m\n\u001b[1;32m      5\u001b[0m sbl[\u001b[38;5;124m'\u001b[39m\u001b[38;5;124mtest\u001b[39m\u001b[38;5;124m'\u001b[39m]\u001b[38;5;241m.\u001b[39mto_json(\u001b[38;5;124m\"\u001b[39m\u001b[38;5;124mswe_bench_lite_test.json\u001b[39m\u001b[38;5;124m\"\u001b[39m, orient\u001b[38;5;241m=\u001b[39m\u001b[38;5;124m\"\u001b[39m\u001b[38;5;124mrecords\u001b[39m\u001b[38;5;124m\"\u001b[39m, lines\u001b[38;5;241m=\u001b[39m\u001b[38;5;28;01mTrue\u001b[39;00m)\n",
      "\u001b[0;31mNameError\u001b[0m: name 'sbf' is not defined"
     ]
    }
   ],
   "source": [
    "# # sbf['train'].to_json(\"swe_bench_train.json\", orient=\"records\", lines=True)\n",
    "# sbf['test'].to_json(\"swe_bench_test.json\", orient=\"records\", lines=True)\n",
    "\n",
    "# # sbl['train'].to_json(\"swe_bench_lite_train.json\", orient=\"records\", lines=True)\n",
    "# sbl['test'].to_json(\"swe_bench_lite_test.json\", orient=\"records\", lines=True)\n",
    "\n",
    "# sbv.to_json(\"swe_bench_verified_test.json\", orient=\"records\", lines=True)"
   ]
  },
  {
   "cell_type": "code",
   "execution_count": 4,
   "metadata": {},
   "outputs": [],
   "source": [
    "save_jsonl(sbf[\"test\"], \"swe_bench_test_test.jsonl\")\n",
    "save_jsonl(sbl[\"test\"], \"swe_bench_lite_test.jsonl\")\n",
    "save_jsonl(sbv, \"swe_bench_verified_test.jsonl\")"
   ]
  }
 ],
 "metadata": {
  "kernelspec": {
   "display_name": "kaizen-copilot",
   "language": "python",
   "name": "python3"
  },
  "language_info": {
   "codemirror_mode": {
    "name": "ipython",
    "version": 3
   },
   "file_extension": ".py",
   "mimetype": "text/x-python",
   "name": "python",
   "nbconvert_exporter": "python",
   "pygments_lexer": "ipython3",
   "version": "3.9.22"
  }
 },
 "nbformat": 4,
 "nbformat_minor": 2
}
