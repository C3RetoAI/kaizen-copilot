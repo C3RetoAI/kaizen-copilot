{
 "cells": [
  {
   "cell_type": "code",
   "execution_count": 1,
   "metadata": {},
   "outputs": [
    {
     "name": "stderr",
     "output_type": "stream",
     "text": [
      "/Users/ikerochoa/opt/anaconda3/envs/kaizen-copilot-py310/lib/python3.10/site-packages/tqdm/auto.py:21: TqdmWarning: IProgress not found. Please update jupyter and ipywidgets. See https://ipywidgets.readthedocs.io/en/stable/user_install.html\n",
      "  from .autonotebook import tqdm as notebook_tqdm\n"
     ]
    }
   ],
   "source": [
    "from agent.agents.embedding_model import EmbeddingModel\n",
    "from agent.models.input import EmbeddingModelInput\n",
    "from agent.models.context import Context\n",
    "from agent.models.issue import Issue\n",
    "\n",
    "from IPython.display import clear_output\n",
    "import json"
   ]
  },
  {
   "cell_type": "code",
   "execution_count": null,
   "metadata": {},
   "outputs": [
    {
     "name": "stdout",
     "output_type": "stream",
     "text": [
      "File not found: 298\n",
      "Current Media: 22.14765100671141\n",
      "File not found: 299\n",
      "Current Media: 22.073578595317723\n",
      "File found: 300\n",
      "Current Media: 22.333333333333332\n"
     ]
    }
   ],
   "source": [
    "from agent.agents.query_formatter import QueryFormatter\n",
    "from agent.models.input import QueryFormatterInput\n",
    "\n",
    "\n",
    "filepath = \"./eval/swe_bench/data/swe_bench_lite_test.jsonl\"\n",
    "\n",
    "correct_files = 0\n",
    "not_found_files = []\n",
    "\n",
    "with open(filepath, \"r\", encoding=\"utf-8\") as f:\n",
    "    for idx, line in enumerate(f):\n",
    "        if line.strip():  # skip empty lines\n",
    "            if idx % 3 == 0: clear_output(wait=True)\n",
    "            \n",
    "            obj = json.loads(line)\n",
    "            \n",
    "            issue = Issue(\"\", obj[\"problem_statement\"], f\"{obj['repo']}\")\n",
    "            context = Context(\"issue_resolution\", issue=issue)\n",
    "            \n",
    "            input_data = QueryFormatterInput(issue=issue)\n",
    "            \n",
    "            input_data, context, _ = QueryFormatter().run(input_data, context)\n",
    "            \n",
    "            input_data =  EmbeddingModelInput(queries=input_data.queries, conditionals=input_data.conditionals)\n",
    "            \n",
    "            _, files_result, _ = EmbeddingModel().run(input_data, context)   \n",
    "            result_file_name = files_result.retrieved_files[0].name\n",
    "            is_correct = result_file_name in obj[\"patch\"]\n",
    "            \n",
    "            total = idx + 1 \n",
    "            file_index = str(total)\n",
    "            if is_correct:\n",
    "                print(\"File found: \" + file_index)\n",
    "            else:\n",
    "                print(\"File not found: \" + file_index)\n",
    "                not_found_files.append(file_index)\n",
    "                \n",
    "            correct_files += 1 if is_correct else 0\n",
    "            if correct_files != 0: \n",
    "                current_media =  (correct_files/total) * 100\n",
    "                print(\"Current Media: \" + str(current_media))"
   ]
  },
  {
   "cell_type": "code",
   "execution_count": null,
   "metadata": {},
   "outputs": [
    {
     "name": "stdout",
     "output_type": "stream",
     "text": [
      "File Query Accuracy: 22.666666666666664\n"
     ]
    }
   ],
   "source": [
    "total_media = (correct_files / 300) * 100\n",
    "print(\"File Query Accuracy: \" + str(total_media))"
   ]
  },
  {
   "cell_type": "code",
   "execution_count": 8,
   "metadata": {},
   "outputs": [
    {
     "data": {
      "text/plain": [
       "[3, 5, 6, 7, 10]"
      ]
     },
     "execution_count": 8,
     "metadata": {},
     "output_type": "execute_result"
    }
   ],
   "source": [
    "not_found_files[:5]"
   ]
  }
 ],
 "metadata": {
  "kernelspec": {
   "display_name": "kaizen-copilot-py310",
   "language": "python",
   "name": "python3"
  },
  "language_info": {
   "codemirror_mode": {
    "name": "ipython",
    "version": 3
   },
   "file_extension": ".py",
   "mimetype": "text/x-python",
   "name": "python",
   "nbconvert_exporter": "python",
   "pygments_lexer": "ipython3",
   "version": "3.10.17"
  }
 },
 "nbformat": 4,
 "nbformat_minor": 2
}
