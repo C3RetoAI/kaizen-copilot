{
 "cells": [
  {
   "cell_type": "code",
   "execution_count": 2,
   "metadata": {},
   "outputs": [
    {
     "name": "stderr",
     "output_type": "stream",
     "text": [
      "/Users/ikerochoa/opt/anaconda3/envs/kaizen-copilot/lib/python3.9/site-packages/tqdm/auto.py:21: TqdmWarning: IProgress not found. Please update jupyter and ipywidgets. See https://ipywidgets.readthedocs.io/en/stable/user_install.html\n",
      "  from .autonotebook import tqdm as notebook_tqdm\n"
     ]
    }
   ],
   "source": [
    "import chromadb\n",
    "from chromadb.config import Settings\n",
    "from sentence_transformers import SentenceTransformer\n",
    "import os"
   ]
  },
  {
   "cell_type": "code",
   "execution_count": 4,
   "metadata": {},
   "outputs": [],
   "source": [
    "# Initialize Chroma client\n",
    "chroma_client = chromadb.HttpClient(host=\"localhost\", port=8005, settings=Settings())\n",
    "\n",
    "# Load sentence transformer (example model)\n",
    "embedder = SentenceTransformer('all-MiniLM-L6-v2')\n",
    "\n",
    "# Create or get collection\n",
    "collection = chroma_client.get_collection(name=\"mwaskom_seaborn\")"
   ]
  },
  {
   "cell_type": "code",
   "execution_count": 13,
   "metadata": {},
   "outputs": [],
   "source": [
    "files_list = [\"sample.py\", \"sample2.py\", \"sample3.py\", \"sample4.py\", \"sample5.py\", \"sample6.py\"]\n",
    "docs = []\n",
    "embedds = []\n",
    "\n",
    "for file_name in files_list:\n",
    "    file_path = os.path.abspath(f\"./sample_files/{file_name}\")\n",
    "    \n",
    "    with open(file_path, \"r\", encoding=\"utf-8\") as f:\n",
    "        file_content = f.read()\n",
    "\n",
    "    # Prepare text to embed (file name + content)\n",
    "    text_to_embed = f\"{file_path} {file_content}\"\n",
    "    docs.append(text_to_embed)\n",
    "\n",
    "    embedds.append(embedder.encode([text_to_embed])[0].tolist())"
   ]
  },
  {
   "cell_type": "code",
   "execution_count": 14,
   "metadata": {},
   "outputs": [
    {
     "name": "stdout",
     "output_type": "stream",
     "text": [
      "NumPy version: 1.26.4\n",
      "To NumPy: [1. 2. 3.]\n"
     ]
    }
   ],
   "source": [
    "import numpy\n",
    "import torch\n",
    "\n",
    "print(\"NumPy version:\", numpy.__version__)\n",
    "x = torch.tensor([1.0, 2.0, 3.0])\n",
    "print(\"To NumPy:\", x.numpy())  # <- Aquí debe funcionar sin errores"
   ]
  },
  {
   "cell_type": "code",
   "execution_count": 15,
   "metadata": {},
   "outputs": [],
   "source": [
    "collection.upsert(\n",
    "    ids=[files_list[i].split(\".\")[0] for i in range(len(docs))],  # unique ID\n",
    "    documents=docs,\n",
    "    embeddings=embedds,\n",
    "    metadatas=[{\"name\": files_list[i], \"extension\": \"py\", \"path\": f\"sample_files/{files_list[i]}\"} for i in range(len(docs))]\n",
    ")"
   ]
  },
  {
   "cell_type": "code",
   "execution_count": 16,
   "metadata": {},
   "outputs": [
    {
     "name": "stdout",
     "output_type": "stream",
     "text": [
      "{'ids': [['sample2']], 'distances': [[1.0407114]], 'embeddings': None, 'metadatas': [[{'name': 'sample2.py', 'path': 'sample_files/sample2.py', 'extension': 'py'}]], 'documents': [['/Users/ikerochoa/Desktop/Tec/8vo Sementre/kaizen-copilot/chroma_db/test/sample_files/sample2.py # ejemplo_avanzado.py\\n\\ndef dividir(a, b):\\n    \"\"\"Devuelve el resultado de dividir a entre b, manejando división por cero.\"\"\"\\n    try:\\n        resultado = a / b\\n    except ZeroDivisionError:\\n        return \"Error: No se puede dividir entre cero.\"\\n    else:\\n        return resultado\\n\\ndef say_hi(nombre, saludo=\"Hola\"):\\n    \"\"\"Imprime un saludo personalizado, con saludo opcional.\"\"\"\\n    print(f\"{saludo}, {nombre}!\")\\n\\ndef promedio_lista(numeros):\\n    \"\"\"Calcula el promedio de una lista de números.\"\"\"\\n    if not numeros:\\n        return 0\\n    return sum(numeros) / len(numeros)\\n\\ndef contar_ocurrencias(lista):\\n    \"\"\"Devuelve un diccionario con el conteo de ocurrencias de cada elemento.\"\"\"\\n    conteo = {}\\n    for elemento in lista:\\n        if elemento in conteo:\\n            conteo[elemento] += 1\\n        else:\\n            conteo[elemento] = 1\\n    return conteo\\n\\n# Código de prueba si ejecutas este archivo directamente\\nif __name__ == \"__main__\":\\n    print(\"División 10 / 2:\", dividir(10, 2))\\n    print(\"División 10 / 0:\", dividir(10, 0))\\n\\n    say_hi(\"Iker\")\\n    say_hi(\"Iker\", saludo=\"¡Qué tal\")\\n\\n    lista = [1, 2, 3, 4, 5]\\n    print(\"Promedio de lista:\", promedio_lista(lista))\\n\\n    elementos = [\"manzana\", \"pera\", \"manzana\", \"naranja\", \"pera\", \"manzana\"]\\n    print(\"Conteo de ocurrencias:\", contar_ocurrencias(elementos))']], 'uris': None, 'data': None, 'included': ['metadatas', 'documents', 'distances']}\n"
     ]
    }
   ],
   "source": [
    "results = collection.query(\n",
    "    query_texts=[\"chroma_db/test/sample_files/sample2.py\\ndef say_hi(\"], \n",
    "    n_results=2,\n",
    "    where={\"path\": \"sample_files/sample2.py\"}\n",
    ")\n",
    "\n",
    "print(results)"
   ]
  },
  {
   "cell_type": "markdown",
   "metadata": {},
   "source": [
    "Delete all collections:"
   ]
  },
  {
   "cell_type": "code",
   "execution_count": null,
   "metadata": {},
   "outputs": [
    {
     "name": "stdout",
     "output_type": "stream",
     "text": [
      "✅ Todas las colecciones fueron eliminadas.\n"
     ]
    }
   ],
   "source": [
    "# from chromadb import HttpClient\n",
    "\n",
    "# client = HttpClient(host=\"localhost\", port=8005)\n",
    "# collections = client.list_collections()\n",
    "\n",
    "# for col in collections:\n",
    "#     client.delete_collection(name=col.name)\n",
    "\n",
    "# print(\"✅ Todas las colecciones fueron eliminadas.\")"
   ]
  },
  {
   "cell_type": "markdown",
   "metadata": {},
   "source": [
    "## Revisar el embedding, que sea compatible para evitar perdida de contexto"
   ]
  }
 ],
 "metadata": {
  "kernelspec": {
   "display_name": "kaizen-copilot",
   "language": "python",
   "name": "python3"
  },
  "language_info": {
   "codemirror_mode": {
    "name": "ipython",
    "version": 3
   },
   "file_extension": ".py",
   "mimetype": "text/x-python",
   "name": "python",
   "nbconvert_exporter": "python",
   "pygments_lexer": "ipython3",
   "version": "3.9.22"
  }
 },
 "nbformat": 4,
 "nbformat_minor": 2
}
