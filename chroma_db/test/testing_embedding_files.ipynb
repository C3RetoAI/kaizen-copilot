{
 "cells": [
  {
   "cell_type": "code",
   "execution_count": 9,
   "metadata": {},
   "outputs": [],
   "source": [
    "import chromadb\n",
    "from chromadb.config import Settings\n",
    "from sentence_transformers import SentenceTransformer\n",
    "import os"
   ]
  },
  {
   "cell_type": "code",
   "execution_count": 10,
   "metadata": {},
   "outputs": [],
   "source": [
    "# Initialize Chroma client\n",
    "chroma_client = chromadb.HttpClient(host=\"localhost\", port=8005, settings=Settings())\n",
    "\n",
    "# Load sentence transformer (example model)\n",
    "embedder = SentenceTransformer('all-MiniLM-L6-v2')\n",
    "\n",
    "# Create or get collection\n",
    "collection = chroma_client.get_or_create_collection(name=\"code_files\")"
   ]
  },
  {
   "cell_type": "code",
   "execution_count": 11,
   "metadata": {},
   "outputs": [],
   "source": [
    "files_list = [\"sample.py\", \"sample2.py\"]\n",
    "docs = []\n",
    "embedds = []\n",
    "\n",
    "for file_name in files_list:\n",
    "    file_path = os.path.abspath(f\"./sample_files/{file_name}\")\n",
    "    \n",
    "    with open(file_path, \"r\", encoding=\"utf-8\") as f:\n",
    "        file_content = f.read()\n",
    "\n",
    "    # Prepare text to embed (file name + content)\n",
    "    text_to_embed = f\"{file_path} {file_content}\"\n",
    "    docs.append(text_to_embed)\n",
    "\n",
    "    embedds.append(embedder.encode([text_to_embed])[0].tolist())"
   ]
  },
  {
   "cell_type": "code",
   "execution_count": 12,
   "metadata": {},
   "outputs": [
    {
     "name": "stdout",
     "output_type": "stream",
     "text": [
      "NumPy version: 1.26.4\n",
      "To NumPy: [1. 2. 3.]\n"
     ]
    }
   ],
   "source": [
    "import numpy\n",
    "import torch\n",
    "\n",
    "print(\"NumPy version:\", numpy.__version__)\n",
    "x = torch.tensor([1.0, 2.0, 3.0])\n",
    "print(\"To NumPy:\", x.numpy())  # <- Aquí debe funcionar sin errores"
   ]
  },
  {
   "cell_type": "code",
   "execution_count": 13,
   "metadata": {},
   "outputs": [],
   "source": [
    "collection.upsert(\n",
    "    ids=[\"file1\", \"file2\"],  # unique ID\n",
    "    documents=docs,\n",
    "    embeddings=embedds,\n",
    "    metadatas=[{\"file_name\": files_list[i]} for i in range(len(docs))]\n",
    ")"
   ]
  },
  {
   "cell_type": "code",
   "execution_count": 14,
   "metadata": {},
   "outputs": [
    {
     "name": "stdout",
     "output_type": "stream",
     "text": [
      "{'ids': [['file1']], 'distances': [[1.6022147]], 'embeddings': None, 'metadatas': [[{'file_name': 'sample.py'}]], 'documents': [['/Users/ikerochoa/Desktop/Tec/8vo Sementre/kaizen-copilot/chroma_db/test/sample_files/sample.py def saludar(nombre):\\n    \"\"\"Imprime un saludo personalizado.\"\"\"\\n    print(f\"Hola, {nombre}!\")\\n\\ndef sumar(a, b):\\n    \"\"\"Devuelve la suma de dos números.\"\"\"\\n    return a + b\\n\\ndef es_par(numero):\\n    \"\"\"Devuelve True si el número es par, False si es impar.\"\"\"\\n    return numero % 2 == 0\\n\\ndef factorial(n):\\n    \"\"\"Calcula el factorial de un número de forma recursiva.\"\"\"\\n    if n == 0 or n == 1:\\n        return 1\\n    else:\\n        return n * factorial(n - 1)\\n\\ndef lista_pares(hasta):\\n    \"\"\"Devuelve una lista de números pares hasta un número dado.\"\"\"\\n    return [x for x in range(hasta + 1) if es_par(x)]\\n\\n# Código de prueba si ejecutas este archivo directamente\\nif __name__ == \"__main__\":\\n    saludar(\"Iker\")\\n    print(\"Suma de 3 + 4:\", sumar(3, 4))\\n    print(\"¿Es 10 par?\", es_par(10))\\n    print(\"Factorial de 5:\", factorial(5))\\n    print(\"Lista de pares hasta 10:\", lista_pares(10))\\n    \\n    print(\"Mariana Bustos\")']], 'uris': None, 'data': None, 'included': ['metadatas', 'documents', 'distances']}\n"
     ]
    }
   ],
   "source": [
    "results = collection.query(\n",
    "    query_texts=[\"saludar(Iker)\"], \n",
    "    n_results=1 \n",
    ")\n",
    "\n",
    "print(results)"
   ]
  },
  {
   "cell_type": "markdown",
   "metadata": {},
   "source": [
    "Delete all collections:"
   ]
  },
  {
   "cell_type": "code",
   "execution_count": 16,
   "metadata": {},
   "outputs": [
    {
     "name": "stdout",
     "output_type": "stream",
     "text": [
      "✅ Todas las colecciones fueron eliminadas.\n"
     ]
    }
   ],
   "source": [
    "from chromadb import HttpClient\n",
    "\n",
    "client = HttpClient(host=\"localhost\", port=8005)\n",
    "collections = client.list_collections()\n",
    "\n",
    "for col in collections:\n",
    "    client.delete_collection(name=col.name)\n",
    "\n",
    "print(\"✅ Todas las colecciones fueron eliminadas.\")"
   ]
  },
  {
   "cell_type": "markdown",
   "metadata": {},
   "source": [
    "## Revisar el embedding, que sea compatible para evitar perdida de contexto"
   ]
  }
 ],
 "metadata": {
  "kernelspec": {
   "display_name": "Python 3",
   "language": "python",
   "name": "python3"
  },
  "language_info": {
   "codemirror_mode": {
    "name": "ipython",
    "version": 3
   },
   "file_extension": ".py",
   "mimetype": "text/x-python",
   "name": "python",
   "nbconvert_exporter": "python",
   "pygments_lexer": "ipython3",
   "version": "3.9.22"
  }
 },
 "nbformat": 4,
 "nbformat_minor": 2
}
