{
 "cells": [
  {
   "cell_type": "code",
   "execution_count": 50,
   "metadata": {},
   "outputs": [],
   "source": [
    "import chromadb\n",
    "from chromadb.config import Settings\n",
    "from sentence_transformers import SentenceTransformer\n",
    "import os"
   ]
  },
  {
   "cell_type": "code",
   "execution_count": 51,
   "metadata": {},
   "outputs": [],
   "source": [
    "# Initialize Chroma client\n",
    "chroma_client = chromadb.HttpClient(host=\"localhost\", port=8005, settings=Settings())\n",
    "\n",
    "# Load sentence transformer (example model)\n",
    "embedder = SentenceTransformer('all-MiniLM-L6-v2')\n",
    "\n",
    "# Create or get collection\n",
    "collection = chroma_client.get_or_create_collection(name=\"code_files\")"
   ]
  },
  {
   "cell_type": "code",
   "execution_count": 52,
   "metadata": {},
   "outputs": [],
   "source": [
    "files_list = [\"sample.py\", \"sample2.py\"]\n",
    "docs = []\n",
    "embedds = []\n",
    "\n",
    "for file_name in files_list:\n",
    "    file_path = os.path.abspath(f\"./sample_files/{file_name}\")\n",
    "    \n",
    "    with open(file_path, \"r\", encoding=\"utf-8\") as f:\n",
    "        file_content = f.read()\n",
    "\n",
    "    # Prepare text to embed (file name + content)\n",
    "    text_to_embed = f\"{file_path} {file_content}\"\n",
    "    docs.append(text_to_embed)\n",
    "\n",
    "    embedds.append(embedder.encode([text_to_embed])[0].tolist())"
   ]
  },
  {
   "cell_type": "code",
   "execution_count": null,
   "metadata": {},
   "outputs": [],
   "source": [
    "collection.upsert(\n",
    "    ids=[\"file1\", \"file2\"],  # unique ID\n",
    "    documents=docs,\n",
    "    embeddings=embedds,\n",
    "    metadatas=[{\"file_name\": files_list[i]} for i in range(len(docs))]\n",
    ")"
   ]
  },
  {
   "cell_type": "code",
   "execution_count": 55,
   "metadata": {},
   "outputs": [
    {
     "name": "stdout",
     "output_type": "stream",
     "text": [
      "{'ids': [['file1']], 'distances': [[1.6022147]], 'embeddings': None, 'metadatas': [[None]], 'documents': [['/Users/ikerochoa/Desktop/Tec/8vo Sementre/kaizen-copilot/chroma_db/test/sample_files/sample.py def saludar(nombre):\\n    \"\"\"Imprime un saludo personalizado.\"\"\"\\n    print(f\"Hola, {nombre}!\")\\n\\ndef sumar(a, b):\\n    \"\"\"Devuelve la suma de dos números.\"\"\"\\n    return a + b\\n\\ndef es_par(numero):\\n    \"\"\"Devuelve True si el número es par, False si es impar.\"\"\"\\n    return numero % 2 == 0\\n\\ndef factorial(n):\\n    \"\"\"Calcula el factorial de un número de forma recursiva.\"\"\"\\n    if n == 0 or n == 1:\\n        return 1\\n    else:\\n        return n * factorial(n - 1)\\n\\ndef lista_pares(hasta):\\n    \"\"\"Devuelve una lista de números pares hasta un número dado.\"\"\"\\n    return [x for x in range(hasta + 1) if es_par(x)]\\n\\n# Código de prueba si ejecutas este archivo directamente\\nif __name__ == \"__main__\":\\n    saludar(\"Iker\")\\n    print(\"Suma de 3 + 4:\", sumar(3, 4))\\n    print(\"¿Es 10 par?\", es_par(10))\\n    print(\"Factorial de 5:\", factorial(5))\\n    print(\"Lista de pares hasta 10:\", lista_pares(10))\\n    \\n    print(\"Mariana Bustos\")']], 'uris': None, 'data': None, 'included': ['metadatas', 'documents', 'distances']}\n"
     ]
    }
   ],
   "source": [
    "results = collection.query(\n",
    "    query_texts=[\"saludar(Iker)\"], \n",
    "    n_results=1 \n",
    ")\n",
    "\n",
    "print(results)"
   ]
  }
 ],
 "metadata": {
  "kernelspec": {
   "display_name": "kaizen-copilot",
   "language": "python",
   "name": "python3"
  },
  "language_info": {
   "codemirror_mode": {
    "name": "ipython",
    "version": 3
   },
   "file_extension": ".py",
   "mimetype": "text/x-python",
   "name": "python",
   "nbconvert_exporter": "python",
   "pygments_lexer": "ipython3",
   "version": "3.9.22"
  }
 },
 "nbformat": 4,
 "nbformat_minor": 2
}
