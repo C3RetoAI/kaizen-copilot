{
 "cells": [
  {
   "cell_type": "code",
   "execution_count": 76,
   "metadata": {},
   "outputs": [],
   "source": [
    "from chromadb import  chromadb\n",
    "import random\n",
    "import json"
   ]
  },
  {
   "cell_type": "code",
   "execution_count": 77,
   "metadata": {},
   "outputs": [],
   "source": [
    "def get_random_code_samples(collection_name=\"my_collection\", num_samples=10, num_lines=4):\n",
    "    client = chromadb.HttpClient(host=\"localhost\", port=8005)\n",
    "    collection = client.get_collection(name=collection_name)\n",
    "\n",
    "    all_docs = collection.get(include=[\"documents\", \"metadatas\"])\n",
    "\n",
    "    if not all_docs[\"documents\"]:\n",
    "        print(\"No documents found.\")\n",
    "        return []\n",
    "\n",
    "    samples = []\n",
    "\n",
    "    for _ in range(num_samples):\n",
    "        idx = random.randint(0, len(all_docs[\"documents\"]) - 1)\n",
    "        code = all_docs[\"documents\"][idx]\n",
    "        metadata = all_docs[\"metadatas\"][idx]\n",
    "\n",
    "        code_lines = [line for line in code.splitlines() if line.strip()]\n",
    "        if not code_lines:\n",
    "            continue\n",
    "\n",
    "        selected_lines = random.sample(code_lines, min(num_lines, len(code_lines)))\n",
    "\n",
    "        samples.append({\n",
    "            \"collection_name\": collection_name,\n",
    "            \"expected_file\": metadata.get(\"name\", \"unknown\"),\n",
    "            \"query\": \"\\n\".join(selected_lines)\n",
    "        })\n",
    "    return samples"
   ]
  },
  {
   "cell_type": "code",
   "execution_count": 78,
   "metadata": {},
   "outputs": [],
   "source": [
    "def save_samples_to_jsonl(samples, filename=\"../../output.jsonl\"):\n",
    "    with open(filename, \"w\", encoding=\"utf-8\") as f:\n",
    "        for sample in samples:\n",
    "            json_line = json.dumps(sample, ensure_ascii=False)\n",
    "            f.write(json_line + \"\\n\")"
   ]
  },
  {
   "cell_type": "code",
   "execution_count": 79,
   "metadata": {},
   "outputs": [],
   "source": [
    "collections_names = ['astropy/astropy',\n",
    " 'django/django',\n",
    " 'matplotlib/matplotlib',\n",
    " 'mwaskom/seaborn',\n",
    " 'pallets/flask',\n",
    " 'psf/requests',\n",
    " 'pydata/xarray',\n",
    " 'pylint-dev/pylint',\n",
    " 'pytest-dev/pytest',\n",
    " 'scikit-learn/scikit-learn',\n",
    " 'sphinx-doc/sphinx',\n",
    " 'sympy/sympy']"
   ]
  },
  {
   "cell_type": "code",
   "execution_count": 80,
   "metadata": {},
   "outputs": [],
   "source": [
    "results = []\n",
    "for collection in collections_names:\n",
    "    results.extend(get_random_code_samples(collection.replace(\"/\", \"_\")))  "
   ]
  },
  {
   "cell_type": "code",
   "execution_count": 81,
   "metadata": {},
   "outputs": [],
   "source": [
    "if len(results) > 0:\n",
    "    save_samples_to_jsonl(results)"
   ]
  }
 ],
 "metadata": {
  "kernelspec": {
   "display_name": "kaizen-copilot-py310",
   "language": "python",
   "name": "python3"
  },
  "language_info": {
   "codemirror_mode": {
    "name": "ipython",
    "version": 3
   },
   "file_extension": ".py",
   "mimetype": "text/x-python",
   "name": "python",
   "nbconvert_exporter": "python",
   "pygments_lexer": "ipython3",
   "version": "3.10.17"
  }
 },
 "nbformat": 4,
 "nbformat_minor": 2
}
